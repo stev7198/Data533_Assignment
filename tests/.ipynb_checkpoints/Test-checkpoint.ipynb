{
 "cells": [
  {
   "cell_type": "markdown",
   "id": "1840de6f-20ce-4d17-9336-a8648a34354f",
   "metadata": {},
   "source": [
    "# Testing Package"
   ]
  },
  {
   "cell_type": "markdown",
   "id": "ee95aad3-f883-4446-a321-9a27435dbed4",
   "metadata": {},
   "source": [
    "## Subpackage - teamstats"
   ]
  },
  {
   "cell_type": "markdown",
   "id": "739e1d34-dc31-4ef5-8649-b31390e99f2b",
   "metadata": {},
   "source": [
    "### Module - basic"
   ]
  },
  {
   "cell_type": "markdown",
   "id": "bf4e010d-1f97-4217-94bd-b5f69b7030cb",
   "metadata": {},
   "source": [
    "***LoadData Function*** - This loads the correct dataframe for the user based on the year"
   ]
  },
  {
   "cell_type": "code",
   "execution_count": 2,
   "id": "025f5040-f09f-4f7e-a86f-808282565cec",
   "metadata": {},
   "outputs": [
    {
     "name": "stdin",
     "output_type": "stream",
     "text": [
      "Enter the season you would like data for: Please just enter the year the season finished (e.g., 2021/2022 enter 2022) e\n"
     ]
    },
    {
     "name": "stdout",
     "output_type": "stream",
     "text": [
      "Invalid year format. Please enter a valid year (e.g., 2022).\n"
     ]
    }
   ],
   "source": [
    "import hockey.teamstats.basic as basic\n",
    "\n",
    "basic.LoadData()"
   ]
  },
  {
   "cell_type": "markdown",
   "id": "c486efe0-4822-47d4-b7e1-ec83f5229894",
   "metadata": {},
   "source": [
    "***BasicStats Function*** - Allows the user to retrieve a stat for a specific team and year"
   ]
  },
  {
   "cell_type": "code",
   "execution_count": 14,
   "id": "c3af40e5-c8c3-4cee-9a99-61acabd67c41",
   "metadata": {},
   "outputs": [
    {
     "name": "stdin",
     "output_type": "stream",
     "text": [
      "Enter the season you would like data for: Please just enter the year the season finished (e.g., 2021/2022 enter 2022) 2022\n",
      "Enter the team name:  arizona coyotes\n",
      "Enter the stat/column you want (RK, GP, W, L, OT, PTS, PTS/GP, ROW, GF, GA, GD:  W\n"
     ]
    },
    {
     "data": {
      "text/plain": [
       "25"
      ]
     },
     "execution_count": 14,
     "metadata": {},
     "output_type": "execute_result"
    }
   ],
   "source": [
    "basic.BasicStats()"
   ]
  },
  {
   "cell_type": "markdown",
   "id": "81df303e-f921-4931-90c0-03b0e67d45f5",
   "metadata": {},
   "source": [
    "***AdvancedStats Function*** - Allows the user to retrieve PTS/GP, GF/GP and GA/GP for a specific team and year"
   ]
  },
  {
   "cell_type": "code",
   "execution_count": 8,
   "id": "495c6a86-f491-410d-9127-691cbe333e57",
   "metadata": {},
   "outputs": [
    {
     "name": "stdin",
     "output_type": "stream",
     "text": [
      "Enter the season you would like data for: Please just enter the year the season finished (e.g., 2021/2022 enter 2022) 2022\n",
      "Enter the team name:  seattle kraken\n"
     ]
    },
    {
     "data": {
      "text/html": [
       "<div>\n",
       "<style scoped>\n",
       "    .dataframe tbody tr th:only-of-type {\n",
       "        vertical-align: middle;\n",
       "    }\n",
       "\n",
       "    .dataframe tbody tr th {\n",
       "        vertical-align: top;\n",
       "    }\n",
       "\n",
       "    .dataframe thead th {\n",
       "        text-align: right;\n",
       "    }\n",
       "</style>\n",
       "<table border=\"1\" class=\"dataframe\">\n",
       "  <thead>\n",
       "    <tr style=\"text-align: right;\">\n",
       "      <th></th>\n",
       "      <th>Team</th>\n",
       "      <th>PTS/GP</th>\n",
       "      <th>GF/GP</th>\n",
       "      <th>GA/GP</th>\n",
       "    </tr>\n",
       "  </thead>\n",
       "  <tbody>\n",
       "    <tr>\n",
       "      <th>0</th>\n",
       "      <td>seattle kraken</td>\n",
       "      <td>0.731707</td>\n",
       "      <td>2.634146</td>\n",
       "      <td>3.47561</td>\n",
       "    </tr>\n",
       "  </tbody>\n",
       "</table>\n",
       "</div>"
      ],
      "text/plain": [
       "             Team    PTS/GP     GF/GP    GA/GP\n",
       "0  seattle kraken  0.731707  2.634146  3.47561"
      ]
     },
     "execution_count": 8,
     "metadata": {},
     "output_type": "execute_result"
    }
   ],
   "source": [
    "basic.AdvancedStats()"
   ]
  },
  {
   "cell_type": "markdown",
   "id": "f7b8ece1-5777-4a0f-bfbb-5bc485b5bdd4",
   "metadata": {},
   "source": [
    "### Module - toplists"
   ]
  },
  {
   "cell_type": "markdown",
   "id": "65df389b-8712-4d12-b9de-2b0b1d4d5efe",
   "metadata": {},
   "source": [
    "***TopTeams Function*** - Ranks the teams based on points and returns a list of a given size"
   ]
  },
  {
   "cell_type": "code",
   "execution_count": 4,
   "id": "29cefb07-3553-45e5-abe3-b09aa0fb4505",
   "metadata": {},
   "outputs": [
    {
     "name": "stdin",
     "output_type": "stream",
     "text": [
      "Enter the season you would like data for: Please just enter the year the season finished (e.g., 2021/2022 enter 2022) 2022\n",
      "Enter the number of top teams you want to display:  4\n"
     ]
    },
    {
     "data": {
      "text/html": [
       "<div>\n",
       "<style scoped>\n",
       "    .dataframe tbody tr th:only-of-type {\n",
       "        vertical-align: middle;\n",
       "    }\n",
       "\n",
       "    .dataframe tbody tr th {\n",
       "        vertical-align: top;\n",
       "    }\n",
       "\n",
       "    .dataframe thead th {\n",
       "        text-align: right;\n",
       "    }\n",
       "</style>\n",
       "<table border=\"1\" class=\"dataframe\">\n",
       "  <thead>\n",
       "    <tr style=\"text-align: right;\">\n",
       "      <th></th>\n",
       "      <th>Team</th>\n",
       "      <th>PTS</th>\n",
       "    </tr>\n",
       "  </thead>\n",
       "  <tbody>\n",
       "    <tr>\n",
       "      <th>0</th>\n",
       "      <td>Florida Panthers</td>\n",
       "      <td>122</td>\n",
       "    </tr>\n",
       "    <tr>\n",
       "      <th>1</th>\n",
       "      <td>Colorado Avalanche</td>\n",
       "      <td>119</td>\n",
       "    </tr>\n",
       "    <tr>\n",
       "      <th>2</th>\n",
       "      <td>Carolina Hurricanes</td>\n",
       "      <td>116</td>\n",
       "    </tr>\n",
       "    <tr>\n",
       "      <th>3</th>\n",
       "      <td>Toronto Maple Leafs</td>\n",
       "      <td>115</td>\n",
       "    </tr>\n",
       "  </tbody>\n",
       "</table>\n",
       "</div>"
      ],
      "text/plain": [
       "                  Team  PTS\n",
       "0     Florida Panthers  122\n",
       "1   Colorado Avalanche  119\n",
       "2  Carolina Hurricanes  116\n",
       "3  Toronto Maple Leafs  115"
      ]
     },
     "execution_count": 4,
     "metadata": {},
     "output_type": "execute_result"
    }
   ],
   "source": [
    "import hockey.teamstats.toplists as list\n",
    "\n",
    "list.TopTeams()"
   ]
  },
  {
   "cell_type": "markdown",
   "id": "921645b9-75ef-44fb-99d0-4861ed8d32fc",
   "metadata": {},
   "source": [
    "***TopAssists Function*** - Ranks the players based on assists and returns a list of a given size"
   ]
  },
  {
   "cell_type": "code",
   "execution_count": 6,
   "id": "db82cec9-bd62-43da-93fc-d2971ad6754d",
   "metadata": {},
   "outputs": [
    {
     "name": "stdin",
     "output_type": "stream",
     "text": [
      "Enter the season you would like data for: Please just enter the year the season finished (e.g., 2021/2022 enter 2022) 2023\n",
      "Enter the number of players you want to display:  5\n"
     ]
    },
    {
     "data": {
      "text/html": [
       "<div>\n",
       "<style scoped>\n",
       "    .dataframe tbody tr th:only-of-type {\n",
       "        vertical-align: middle;\n",
       "    }\n",
       "\n",
       "    .dataframe tbody tr th {\n",
       "        vertical-align: top;\n",
       "    }\n",
       "\n",
       "    .dataframe thead th {\n",
       "        text-align: right;\n",
       "    }\n",
       "</style>\n",
       "<table border=\"1\" class=\"dataframe\">\n",
       "  <thead>\n",
       "    <tr style=\"text-align: right;\">\n",
       "      <th></th>\n",
       "      <th>name</th>\n",
       "      <th>I_F_primaryAssists</th>\n",
       "      <th>I_F_secondaryAssists</th>\n",
       "      <th>total_assists</th>\n",
       "    </tr>\n",
       "  </thead>\n",
       "  <tbody>\n",
       "    <tr>\n",
       "      <th>401</th>\n",
       "      <td>Connor McDavid</td>\n",
       "      <td>60</td>\n",
       "      <td>29</td>\n",
       "      <td>89</td>\n",
       "    </tr>\n",
       "    <tr>\n",
       "      <th>1396</th>\n",
       "      <td>Nikita Kucherov</td>\n",
       "      <td>48</td>\n",
       "      <td>35</td>\n",
       "      <td>83</td>\n",
       "    </tr>\n",
       "    <tr>\n",
       "      <th>2991</th>\n",
       "      <td>Erik Karlsson</td>\n",
       "      <td>42</td>\n",
       "      <td>34</td>\n",
       "      <td>76</td>\n",
       "    </tr>\n",
       "    <tr>\n",
       "      <th>2866</th>\n",
       "      <td>Leon Draisaitl</td>\n",
       "      <td>60</td>\n",
       "      <td>16</td>\n",
       "      <td>76</td>\n",
       "    </tr>\n",
       "    <tr>\n",
       "      <th>2761</th>\n",
       "      <td>Matthew Tkachuk</td>\n",
       "      <td>39</td>\n",
       "      <td>30</td>\n",
       "      <td>69</td>\n",
       "    </tr>\n",
       "  </tbody>\n",
       "</table>\n",
       "</div>"
      ],
      "text/plain": [
       "                 name  I_F_primaryAssists  I_F_secondaryAssists  total_assists\n",
       "401    Connor McDavid                  60                    29             89\n",
       "1396  Nikita Kucherov                  48                    35             83\n",
       "2991    Erik Karlsson                  42                    34             76\n",
       "2866   Leon Draisaitl                  60                    16             76\n",
       "2761  Matthew Tkachuk                  39                    30             69"
      ]
     },
     "execution_count": 6,
     "metadata": {},
     "output_type": "execute_result"
    }
   ],
   "source": [
    "list.TopAssists()"
   ]
  },
  {
   "cell_type": "markdown",
   "id": "54076169-9944-4138-9d9c-42f9a1f2458c",
   "metadata": {},
   "source": [
    "***TopGoals Function*** - Ranks the players based on goals and returns a list of a given size"
   ]
  },
  {
   "cell_type": "code",
   "execution_count": 14,
   "id": "2e9668b8-4b2e-462b-95af-ab49977c7ea4",
   "metadata": {},
   "outputs": [
    {
     "name": "stdin",
     "output_type": "stream",
     "text": [
      "Enter the season you would like data for: Please just enter the year the season finished (e.g., 2021/2022 enter 2022) 2023\n",
      "Enter the number of players you want to display:  6\n"
     ]
    },
    {
     "data": {
      "text/html": [
       "<div>\n",
       "<style scoped>\n",
       "    .dataframe tbody tr th:only-of-type {\n",
       "        vertical-align: middle;\n",
       "    }\n",
       "\n",
       "    .dataframe tbody tr th {\n",
       "        vertical-align: top;\n",
       "    }\n",
       "\n",
       "    .dataframe thead th {\n",
       "        text-align: right;\n",
       "    }\n",
       "</style>\n",
       "<table border=\"1\" class=\"dataframe\">\n",
       "  <thead>\n",
       "    <tr style=\"text-align: right;\">\n",
       "      <th></th>\n",
       "      <th>name</th>\n",
       "      <th>I_F_goals</th>\n",
       "    </tr>\n",
       "  </thead>\n",
       "  <tbody>\n",
       "    <tr>\n",
       "      <th>401</th>\n",
       "      <td>Connor McDavid</td>\n",
       "      <td>64</td>\n",
       "    </tr>\n",
       "    <tr>\n",
       "      <th>3456</th>\n",
       "      <td>David Pastrnak</td>\n",
       "      <td>61</td>\n",
       "    </tr>\n",
       "    <tr>\n",
       "      <th>2741</th>\n",
       "      <td>Mikko Rantanen</td>\n",
       "      <td>55</td>\n",
       "    </tr>\n",
       "    <tr>\n",
       "      <th>2866</th>\n",
       "      <td>Leon Draisaitl</td>\n",
       "      <td>52</td>\n",
       "    </tr>\n",
       "    <tr>\n",
       "      <th>3011</th>\n",
       "      <td>Brayden Point</td>\n",
       "      <td>51</td>\n",
       "    </tr>\n",
       "    <tr>\n",
       "      <th>3111</th>\n",
       "      <td>Tage Thompson</td>\n",
       "      <td>47</td>\n",
       "    </tr>\n",
       "  </tbody>\n",
       "</table>\n",
       "</div>"
      ],
      "text/plain": [
       "                name  I_F_goals\n",
       "401   Connor McDavid         64\n",
       "3456  David Pastrnak         61\n",
       "2741  Mikko Rantanen         55\n",
       "2866  Leon Draisaitl         52\n",
       "3011   Brayden Point         51\n",
       "3111   Tage Thompson         47"
      ]
     },
     "execution_count": 14,
     "metadata": {},
     "output_type": "execute_result"
    }
   ],
   "source": [
    "list.TopGoals()"
   ]
  },
  {
   "cell_type": "markdown",
   "id": "dde60bda-ed79-4987-9dde-fce61187504a",
   "metadata": {},
   "source": [
    "## Subpackage - Player"
   ]
  },
  {
   "cell_type": "markdown",
   "id": "9c26e92e-a8a0-4fb0-84bd-8542e4b071b8",
   "metadata": {},
   "source": [
    "### Module - Skater"
   ]
  },
  {
   "cell_type": "markdown",
   "id": "82c4a72c-147a-4230-8d47-9b2699fdbe08",
   "metadata": {},
   "source": [
    "***Basic Stats***"
   ]
  },
  {
   "cell_type": "code",
   "execution_count": 3,
   "id": "e2ac19c6-f609-4f1c-87fd-a048aad93be1",
   "metadata": {},
   "outputs": [
    {
     "name": "stdin",
     "output_type": "stream",
     "text": [
      "Enter the year to search NHL stats (2020, 2021, 2022, 2023, 2024):  2023\n",
      "Enter player type (skater/goalie):  skater\n",
      "Enter the player's name:  Alex Debrincat\n",
      "Would you like to display basic stats or advanced stats? (basic/advanced):  basic\n"
     ]
    },
    {
     "name": "stdout",
     "output_type": "stream",
     "text": [
      "\n",
      "Basic stats for Alex debrincat (Year: 2023)\n",
      "Name: Alex debrincat\n",
      "Team: OTT\n",
      "Position: R\n",
      "Goals: 27\n",
      "Points: 66\n"
     ]
    }
   ],
   "source": [
    "import os\n",
    "import pandas as pd\n",
    "from hockey.player.player import Player\n",
    "from hockey.player.skater import Skater\n",
    "from hockey.player.goalie import Goalie\n",
    "\n",
    "from hockey.player.get_player_stats import get_player_stats\n",
    "\n",
    "get_player_stats()"
   ]
  },
  {
   "cell_type": "markdown",
   "id": "04e6f239-4337-4e5a-aed2-9383373f2e4d",
   "metadata": {},
   "source": [
    "***Advanced Stats***"
   ]
  },
  {
   "cell_type": "code",
   "execution_count": 14,
   "id": "94ea2d22-6f58-4b93-93d4-25b2f34f2a53",
   "metadata": {},
   "outputs": [
    {
     "name": "stdin",
     "output_type": "stream",
     "text": [
      "Enter the year to search NHL stats (2020, 2021, 2022, 2023, 2024):  2020\n",
      "Enter player type (skater/goalie):  skater\n",
      "Enter the player's name:  Connor mcdavid\n",
      "Would you like to display basic stats or advanced stats? (basic/advanced):  advanced\n"
     ]
    },
    {
     "name": "stdout",
     "output_type": "stream",
     "text": [
      "\n",
      "Advanced stats for Connor mcdavid (Year: 2020)\n",
      "Name: Connor mcdavid\n",
      "Team: EDM\n",
      "Position: C\n",
      "Corsi Percentage: 0.56\n",
      "Expected Goals: 24.76\n",
      "Fenwick Percentage: 0.55\n"
     ]
    }
   ],
   "source": [
    "get_player_stats()"
   ]
  },
  {
   "cell_type": "markdown",
   "id": "3f5fe8d7-828e-411d-b47c-6aa20953dafd",
   "metadata": {},
   "source": [
    "### Module - Goalie"
   ]
  },
  {
   "cell_type": "markdown",
   "id": "10e7ff69-2e81-46ae-895e-891f2299c34a",
   "metadata": {},
   "source": [
    "***Basic Stats***"
   ]
  },
  {
   "cell_type": "code",
   "execution_count": 20,
   "id": "ff19e527-f3d5-4eda-8259-b9ffd2439391",
   "metadata": {},
   "outputs": [
    {
     "name": "stdin",
     "output_type": "stream",
     "text": [
      "Enter the year to search NHL stats (2020, 2021, 2022, 2023, 2024):  2023\n",
      "Enter player type (skater/goalie):  goalie\n",
      "Enter the player's name:  Igor shesterkin\n",
      "Would you like to display basic stats or advanced stats? (basic/advanced):  basic\n"
     ]
    },
    {
     "name": "stdout",
     "output_type": "stream",
     "text": [
      "\n",
      "Goalie Basic Stats for Igor shesterkin (Year: 2023)\n",
      "Name: Igor shesterkin\n",
      "Team: NYR\n",
      "Wins: 37\n",
      "Games Played: 58\n",
      "Save Percentage (SV%): 0.916\n"
     ]
    }
   ],
   "source": [
    "get_player_stats()"
   ]
  },
  {
   "cell_type": "markdown",
   "id": "a43c3a52-7a80-489f-83cb-33b93c8f2052",
   "metadata": {},
   "source": [
    "***Advanced Stats***"
   ]
  },
  {
   "cell_type": "code",
   "execution_count": 23,
   "id": "9cf5af67-8d75-4c08-8444-f3991fe6b887",
   "metadata": {},
   "outputs": [
    {
     "name": "stdin",
     "output_type": "stream",
     "text": [
      "Enter the year to search NHL stats (2020, 2021, 2022, 2023, 2024):  2024\n",
      "Enter player type (skater/goalie):  goalie\n",
      "Enter the player's name:  adin hill\n",
      "Would you like to display basic stats or advanced stats? (basic/advanced):  advanced\n"
     ]
    },
    {
     "name": "stdout",
     "output_type": "stream",
     "text": [
      "\n",
      "Goalie Advanced Stats for Adin hill (Year: 2024)\n",
      "Name: Adin hill\n",
      "Team: VGK\n",
      "Goals Against Average (GAA): 2.71\n",
      "Save Percentage (SV%): 0.909\n",
      "Shutouts: 2\n",
      "Total Saves: 890\n"
     ]
    }
   ],
   "source": [
    "get_player_stats()"
   ]
  },
  {
   "cell_type": "code",
   "execution_count": null,
   "id": "d23cdfef-2857-40eb-b933-f158a895c90c",
   "metadata": {},
   "outputs": [],
   "source": []
  },
  {
   "cell_type": "code",
   "execution_count": null,
   "id": "c93115ab-ccc6-43a7-867c-30dba26adb7d",
   "metadata": {},
   "outputs": [],
   "source": []
  }
 ],
 "metadata": {
  "kernelspec": {
   "display_name": "Python 3 (ipykernel)",
   "language": "python",
   "name": "python3"
  },
  "language_info": {
   "codemirror_mode": {
    "name": "ipython",
    "version": 3
   },
   "file_extension": ".py",
   "mimetype": "text/x-python",
   "name": "python",
   "nbconvert_exporter": "python",
   "pygments_lexer": "ipython3",
   "version": "3.11.7"
  }
 },
 "nbformat": 4,
 "nbformat_minor": 5
}
