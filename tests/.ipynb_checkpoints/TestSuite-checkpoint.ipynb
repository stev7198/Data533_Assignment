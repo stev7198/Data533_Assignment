{
 "cells": [
  {
   "cell_type": "code",
   "execution_count": 2,
   "id": "f766ca98-72e7-48b8-b12f-d9af8218c63d",
   "metadata": {},
   "outputs": [
    {
     "ename": "ModuleNotFoundError",
     "evalue": "No module named 'hockey'",
     "output_type": "error",
     "traceback": [
      "\u001b[0;31m---------------------------------------------------------------------------\u001b[0m",
      "\u001b[0;31mModuleNotFoundError\u001b[0m                       Traceback (most recent call last)",
      "Cell \u001b[0;32mIn[2], line 3\u001b[0m\n\u001b[1;32m      1\u001b[0m \u001b[38;5;28;01mimport\u001b[39;00m \u001b[38;5;21;01munittest\u001b[39;00m\n\u001b[0;32m----> 3\u001b[0m \u001b[38;5;28;01mfrom\u001b[39;00m \u001b[38;5;21;01mTest_teamstats_basic\u001b[39;00m \u001b[38;5;28;01mimport\u001b[39;00m TestBasic\n\u001b[1;32m      4\u001b[0m \u001b[38;5;28;01mfrom\u001b[39;00m \u001b[38;5;21;01mTest_teamstats_toplists\u001b[39;00m \u001b[38;5;28;01mimport\u001b[39;00m TestToplists\n\u001b[1;32m      5\u001b[0m \u001b[38;5;28;01mfrom\u001b[39;00m \u001b[38;5;21;01mtest_get_player_stats\u001b[39;00m \u001b[38;5;28;01mimport\u001b[39;00m TestGetUserInput\n",
      "File \u001b[0;32m~/Documents/MDS/Block 3/Data 533/Assignment/Data533_Assignment/Test_teamstats_basic.py:13\u001b[0m\n\u001b[1;32m      9\u001b[0m \u001b[38;5;28;01mimport\u001b[39;00m \u001b[38;5;21;01mos\u001b[39;00m\n\u001b[1;32m     11\u001b[0m sys\u001b[38;5;241m.\u001b[39mpath\u001b[38;5;241m.\u001b[39minsert(\u001b[38;5;241m0\u001b[39m, os\u001b[38;5;241m.\u001b[39mpath\u001b[38;5;241m.\u001b[39mabspath(os\u001b[38;5;241m.\u001b[39mpath\u001b[38;5;241m.\u001b[39mjoin(os\u001b[38;5;241m.\u001b[39mpath\u001b[38;5;241m.\u001b[39mdirname(\u001b[38;5;18m__file__\u001b[39m), \u001b[38;5;124m'\u001b[39m\u001b[38;5;124m../src\u001b[39m\u001b[38;5;124m'\u001b[39m)))\n\u001b[0;32m---> 13\u001b[0m \u001b[38;5;28;01mimport\u001b[39;00m \u001b[38;5;21;01mhockey\u001b[39;00m\u001b[38;5;21;01m.\u001b[39;00m\u001b[38;5;21;01mteamstats\u001b[39;00m\u001b[38;5;21;01m.\u001b[39;00m\u001b[38;5;21;01mbasic\u001b[39;00m \u001b[38;5;28;01mas\u001b[39;00m \u001b[38;5;21;01mbasic\u001b[39;00m \n\u001b[1;32m     15\u001b[0m \u001b[38;5;28;01mclass\u001b[39;00m \u001b[38;5;21;01mTestBasic\u001b[39;00m(unittest\u001b[38;5;241m.\u001b[39mTestCase):\n\u001b[1;32m     16\u001b[0m     \u001b[38;5;129m@classmethod\u001b[39m\n\u001b[1;32m     17\u001b[0m     \u001b[38;5;28;01mdef\u001b[39;00m \u001b[38;5;21msetUpClass\u001b[39m(\u001b[38;5;28mcls\u001b[39m):\n",
      "\u001b[0;31mModuleNotFoundError\u001b[0m: No module named 'hockey'"
     ]
    }
   ],
   "source": [
    "import unittest\n",
    "\n",
    "from Test_teamstats_basic import TestBasic\n",
    "from Test_teamstats_toplists import TestToplists\n",
    "from test_get_player_stats import TestGetUserInput\n",
    "from test_player import TestPlayer \n",
    "from test_skater import TestSkater\n",
    "from test_goalie import TestGoalie\n",
    "\n",
    "#testing for the Teamstats subpackage \n",
    "\n",
    "def my_suite():\n",
    "    suite = unittest.TestSuite()\n",
    "    result = unittest.TestResult()\n",
    "    suite.addTest(TestBasic('test_BasicStats'))\n",
    "    suite.addTest(TestBasic('test_AdvancedStats'))\n",
    "    suite.addTest(TestToplists('test_TopTeams'))\n",
    "    suite.addTest(TestToplists('test_TopAssists'))\n",
    "    suite.addTest(TestToplists('test_TopGoals'))\n",
    "    # Add each test case method from the TestGetUserInput class to the suite\n",
    "    suite.addTest(TestGetUserInput('test_get_player_stats_skater'))\n",
    "    suite.addTest(TestGetUserInput('test_get_player_stats_goalie'))\n",
    "    suite.addTest(TestGetUserInput('test_get_player_stats_invalid_player_type'))\n",
    "\n",
    "    # Add each test case method from the TestPlayer class to the suite \n",
    "    suite.addTest(TestPlayer('test_initialization'))\n",
    "    suite.addTest(TestPlayer('test_load_data_file_not_found'))\n",
    "    suite.addTest(TestPlayer('test_get_player_data_found'))\n",
    "    suite.addTest(TestPlayer('test_get_player_data_not_found'))\n",
    "\n",
    "    # Add each test case method from the TestSkater class to the suite\n",
    "    suite.addTest(TestSkater('test_initialization'))\n",
    "    suite.addTest(TestSkater('test_load_data_file_not_found'))\n",
    "    suite.addTest(TestSkater('test_basic_stats_found'))\n",
    "    suite.addTest(TestSkater('test_basic_stats_not_found'))\n",
    "    suite.addTest(TestSkater('test_advanced_stats_found'))\n",
    "    suite.addTest(TestSkater('test_advanced_stats_not_found'))\n",
    "\n",
    "    # Add each test case method from the TestGoalieclass to the suite\n",
    "    suite.addTest(TestGoalie('test_initialization'))\n",
    "    suite.addTest(TestGoalie('test_load_data_file_not_found'))\n",
    "    suite.addTest(TestGoalie('test_basic_stats_found'))\n",
    "    suite.addTest(TestGoalie('test_basic_stats_not_found'))\n",
    "    suite.addTest(TestGoalie('test_advanced_stats_found'))\n",
    "    suite.addTest(TestGoalie('test_advanced_stats_not_found'))\n",
    "    runner = unittest.TextTestRunner()\n",
    "    print(runner.run(suite))\n",
    "my_suite()\n",
    "\n"
   ]
  },
  {
   "cell_type": "code",
   "execution_count": null,
   "id": "62833210-3047-4c83-a70e-d2fb86782901",
   "metadata": {},
   "outputs": [],
   "source": []
  },
  {
   "cell_type": "code",
   "execution_count": null,
   "id": "3b93696f-3242-4697-a92a-ca066073aeef",
   "metadata": {},
   "outputs": [],
   "source": []
  },
  {
   "cell_type": "code",
   "execution_count": null,
   "id": "bdd7e8a0-bb95-4b46-b435-64aeab0f8b83",
   "metadata": {},
   "outputs": [],
   "source": []
  }
 ],
 "metadata": {
  "kernelspec": {
   "display_name": "Python 3 (ipykernel)",
   "language": "python",
   "name": "python3"
  },
  "language_info": {
   "codemirror_mode": {
    "name": "ipython",
    "version": 3
   },
   "file_extension": ".py",
   "mimetype": "text/x-python",
   "name": "python",
   "nbconvert_exporter": "python",
   "pygments_lexer": "ipython3",
   "version": "3.11.7"
  }
 },
 "nbformat": 4,
 "nbformat_minor": 5
}
