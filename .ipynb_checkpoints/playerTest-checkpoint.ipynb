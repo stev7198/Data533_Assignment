{
 "cells": [
  {
   "cell_type": "code",
   "execution_count": 1,
   "id": "91f0634a-fcbd-44fb-8546-54ee894c9225",
   "metadata": {},
   "outputs": [
    {
     "name": "stdin",
     "output_type": "stream",
     "text": [
      "Enter the year (2020, 2021, 2022, 2023, 2024):  2020\n",
      "Enter player type (skater/goalie):  goalie\n",
      "Enter the player's name:  john gibson\n",
      "Would you like to display basic stats or advanced stats? (basic/advanced):  advanced\n"
     ]
    },
    {
     "name": "stdout",
     "output_type": "stream",
     "text": [
      "\n",
      "Goalie Advanced Stats for John gibson (Year: 2020)\n",
      "Name: John gibson\n",
      "Team: ANA\n",
      "Goals Against Average (GAA): 3.0\n",
      "Save Percentage (SV%): 0.904\n",
      "Shutouts: 1\n",
      "Total Saves: 1403\n"
     ]
    },
    {
     "name": "stdin",
     "output_type": "stream",
     "text": [
      "Enter the year (2020, 2021, 2022, 2023, 2024):  2022\n",
      "Enter player type (skater/goalie):  skater\n",
      "Enter the player's name:  Joe Pavelski\n",
      "Would you like to display basic stats or advanced stats? (basic/advanced):  basic\n"
     ]
    },
    {
     "name": "stdout",
     "output_type": "stream",
     "text": [
      "\n",
      "Basic stats for Joe pavelski (Year: 2022)\n",
      "Name: Joe pavelski\n",
      "Team: DAL\n",
      "Position: C\n",
      "Goals: 27\n",
      "Points: 81\n"
     ]
    }
   ],
   "source": [
    "import os\n",
    "import pandas as pd\n",
    "from hockey.player.player import Player\n",
    "from hockey.player.skater import Skater\n",
    "from hockey.player.goalie import Goalie\n",
    "\n",
    "from hockey.player.get_player_stats import get_player_stats\n",
    "\n",
    "get_player_stats()"
   ]
  },
  {
   "cell_type": "code",
   "execution_count": null,
   "id": "ba4ce7c7-7918-486b-9ef1-e8ad4bfc8b7a",
   "metadata": {},
   "outputs": [],
   "source": []
  }
 ],
 "metadata": {
  "kernelspec": {
   "display_name": "Python 3 (ipykernel)",
   "language": "python",
   "name": "python3"
  },
  "language_info": {
   "codemirror_mode": {
    "name": "ipython",
    "version": 3
   },
   "file_extension": ".py",
   "mimetype": "text/x-python",
   "name": "python",
   "nbconvert_exporter": "python",
   "pygments_lexer": "ipython3",
   "version": "3.12.3"
  }
 },
 "nbformat": 4,
 "nbformat_minor": 5
}
