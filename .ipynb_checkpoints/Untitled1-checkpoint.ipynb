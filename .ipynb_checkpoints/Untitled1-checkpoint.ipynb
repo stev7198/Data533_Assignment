{
 "cells": [
  {
   "cell_type": "code",
   "execution_count": 1,
   "id": "70a26126-372e-456e-a069-36a0ac6676b1",
   "metadata": {},
   "outputs": [
    {
     "name": "stderr",
     "output_type": "stream",
     "text": [
      "test_get_player_stats_skater (test_get_player_stats.TestGetUserInput.test_get_player_stats_skater)\n",
      "Test the get_player_stats function for a skater (Evander Kane). ... ok\n",
      "test_get_player_stats_goalie (test_get_player_stats.TestGetUserInput.test_get_player_stats_goalie)\n",
      "Test the get_player_stats function for a goalie (Tristan Jarry). ... ok\n",
      "test_get_player_stats_invalid_year (test_get_player_stats.TestGetUserInput.test_get_player_stats_invalid_year)\n",
      "Test for invalid year input. ... ERROR\n",
      "test_get_player_stats_invalid_player_type (test_get_player_stats.TestGetUserInput.test_get_player_stats_invalid_player_type)\n",
      "Test for invalid player type input. ... ok\n",
      "\n",
      "======================================================================\n",
      "ERROR: test_get_player_stats_invalid_year (test_get_player_stats.TestGetUserInput.test_get_player_stats_invalid_year)\n",
      "Test for invalid year input.\n",
      "----------------------------------------------------------------------\n",
      "Traceback (most recent call last):\n",
      "  File \"C:\\Users\\Foste\\anaconda3\\Lib\\unittest\\mock.py\", line 1390, in patched\n",
      "    return func(*newargs, **newkeywargs)\n",
      "           ^^^^^^^^^^^^^^^^^^^^^^^^^^^^^\n",
      "  File \"C:\\Users\\Foste\\Documents\\Block3\\DATA533\\Project\\Data533_Assignment\\test_get_player_stats.py\", line 76, in test_get_player_stats_invalid_year\n",
      "    get_player_stats()\n",
      "  File \"C:\\Users\\Foste\\Documents\\Block3\\DATA533\\Project\\Data533_Assignment\\hockey\\player\\get_player_stats.py\", line 7, in get_player_stats\n",
      "    year = input(\"Enter the year to search NHL stats (2020, 2021, 2022, 2023, 2024): \")\n",
      "           ^^^^^^^^^^^^^^^^^^^^^^^^^^^^^^^^^^^^^^^^^^^^^^^^^^^^^^^^^^^^^^^^^^^^^^^^^^^^\n",
      "  File \"C:\\Users\\Foste\\anaconda3\\Lib\\unittest\\mock.py\", line 1134, in __call__\n",
      "    return self._mock_call(*args, **kwargs)\n",
      "           ^^^^^^^^^^^^^^^^^^^^^^^^^^^^^^^^\n",
      "  File \"C:\\Users\\Foste\\anaconda3\\Lib\\unittest\\mock.py\", line 1138, in _mock_call\n",
      "    return self._execute_mock_call(*args, **kwargs)\n",
      "           ^^^^^^^^^^^^^^^^^^^^^^^^^^^^^^^^^^^^^^^^\n",
      "  File \"C:\\Users\\Foste\\anaconda3\\Lib\\unittest\\mock.py\", line 1195, in _execute_mock_call\n",
      "    result = next(effect)\n",
      "             ^^^^^^^^^^^^\n",
      "StopIteration\n",
      "\n",
      "----------------------------------------------------------------------\n",
      "Ran 4 tests in 0.071s\n",
      "\n",
      "FAILED (errors=1)\n"
     ]
    },
    {
     "name": "stdout",
     "output_type": "stream",
     "text": [
      "Setting up class resources.\n",
      "Setting up for a test.\n",
      "Tearing down after a test.\n",
      "Setting up for a test.\n",
      "Tearing down after a test.\n",
      "Setting up for a test.\n",
      "Tearing down after a test.\n",
      "Setting up for a test.\n",
      "Tearing down after a test.\n",
      "Tearing down class resources.\n"
     ]
    }
   ],
   "source": [
    "import unittest\n",
    "from test_get_player_stats import TestGetUserInput\n",
    "\n",
    "def player_suite():\n",
    "    suite = unittest.TestSuite()\n",
    "    \n",
    "    # Add each test case method from the TestGetUserInput class to the suite\n",
    "    suite.addTest(TestGetUserInput('test_get_player_stats_skater'))\n",
    "    suite.addTest(TestGetUserInput('test_get_player_stats_goalie'))\n",
    "    suite.addTest(TestGetUserInput('test_get_player_stats_invalid_player_type'))\n",
    "    \n",
    "    # Run the test suite\n",
    "    runner = unittest.TextTestRunner(verbosity=2)  # verbosity=2 gives more detailed output\n",
    "    result = runner.run(suite)\n",
    "\n",
    "# Run the suite\n",
    "if __name__ == '__main__':\n",
    "    player_suite()\n"
   ]
  },
  {
   "cell_type": "code",
   "execution_count": null,
   "id": "eea5a369-156c-4f7e-897c-06911cd9a31d",
   "metadata": {},
   "outputs": [],
   "source": []
  },
  {
   "cell_type": "code",
   "execution_count": null,
   "id": "bfcb33af-8714-4293-8971-5fcc0d9d5eeb",
   "metadata": {},
   "outputs": [],
   "source": []
  }
 ],
 "metadata": {
  "kernelspec": {
   "display_name": "Python 3 (ipykernel)",
   "language": "python",
   "name": "python3"
  },
  "language_info": {
   "codemirror_mode": {
    "name": "ipython",
    "version": 3
   },
   "file_extension": ".py",
   "mimetype": "text/x-python",
   "name": "python",
   "nbconvert_exporter": "python",
   "pygments_lexer": "ipython3",
   "version": "3.12.3"
  }
 },
 "nbformat": 4,
 "nbformat_minor": 5
}
