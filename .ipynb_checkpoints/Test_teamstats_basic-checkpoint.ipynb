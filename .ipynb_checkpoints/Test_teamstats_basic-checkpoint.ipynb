{
 "cells": [
  {
   "cell_type": "code",
   "execution_count": 24,
   "id": "fc5b36d3-7f4b-45fb-b7ba-68dee69ec9bc",
   "metadata": {},
   "outputs": [
    {
     "name": "stderr",
     "output_type": "stream",
     "text": [
      "test_AdvancedStats (__main__.TestBasic.test_AdvancedStats)\n",
      "Test AdvancedStats ... /Users/tylerstevenson/Documents/MDS/Block 3/Data 533/Assignment/Data533_Assignment/hockey/teamstats/basic.py:17: DeprecationWarning: Use of .. or absolute path in a resource path is not allowed and will raise exceptions in a future release.\n",
      "  csv_path = pkg_resources.resource_stream(__name__, f\"../{csv_filename}\")\n",
      "/Users/tylerstevenson/Documents/MDS/Block 3/Data 533/Assignment/Data533_Assignment/hockey/teamstats/basic.py:47: ResourceWarning: unclosed file <_io.BufferedReader name='/Users/tylerstevenson/Documents/MDS/Block 3/Data 533/Assignment/Data533_Assignment/hockey/teamstats/../Team2022.csv'>\n",
      "  df = LoadData() # calls the loadData function to get the correct year and dataframe\n",
      "ResourceWarning: Enable tracemalloc to get the object allocation traceback\n",
      "ok\n",
      "test_BasicStats (__main__.TestBasic.test_BasicStats)\n",
      "Test BasicStats ... /Users/tylerstevenson/Documents/MDS/Block 3/Data 533/Assignment/Data533_Assignment/hockey/teamstats/basic.py:17: DeprecationWarning: Use of .. or absolute path in a resource path is not allowed and will raise exceptions in a future release.\n",
      "  csv_path = pkg_resources.resource_stream(__name__, f\"../{csv_filename}\")\n",
      "/Users/tylerstevenson/Documents/MDS/Block 3/Data 533/Assignment/Data533_Assignment/hockey/teamstats/basic.py:28: ResourceWarning: unclosed file <_io.BufferedReader name='/Users/tylerstevenson/Documents/MDS/Block 3/Data 533/Assignment/Data533_Assignment/hockey/teamstats/../Team2022.csv'>\n",
      "  df = LoadData() # calls the loadData function to get the correct year and dataframe\n",
      "ResourceWarning: Enable tracemalloc to get the object allocation traceback\n",
      "ok\n",
      "\n",
      "----------------------------------------------------------------------\n",
      "Ran 2 tests in 0.014s\n",
      "\n",
      "OK\n"
     ]
    },
    {
     "name": "stdout",
     "output_type": "stream",
     "text": [
      "setupClass\n",
      "Set Up\n",
      "Tear Down\n",
      "Set Up\n",
      "Tear Down\n",
      "teardownClass\n"
     ]
    },
    {
     "data": {
      "text/plain": [
       "<unittest.main.TestProgram at 0x12ebee550>"
      ]
     },
     "execution_count": 24,
     "metadata": {},
     "output_type": "execute_result"
    }
   ],
   "source": [
    "import unittest\n",
    "from unittest.mock import patch\n",
    "import hockey.teamstats.basic as basic\n",
    "\n",
    "class TestBasic(unittest.TestCase):\n",
    "    @classmethod\n",
    "    def setUpClass(cls):\n",
    "        print('setupClass')\n",
    "    \n",
    "    def setUp(self): \n",
    "        print('Set Up')\n",
    "        \n",
    "    def tearDown(self):\n",
    "        print('Tear Down')\n",
    "\n",
    "    @classmethod\n",
    "    def tearDownClass(cls):\n",
    "        print('teardownClass')\n",
    "\n",
    "    @patch('hockey.teamstats.basic.input')\n",
    "    def test_BasicStats(self, mock_input):\n",
    "        \"\"\"Test BasicStats\"\"\"\n",
    "\n",
    "        # Mock the user input for year, team, and stat\n",
    "        mock_input.side_effect = ['2022', 'Seattle Kraken', 'W']\n",
    "\n",
    "        # Call the BasicStats function\n",
    "        stat_value = basic.BasicStats()\n",
    "\n",
    "        # Perform assertions\n",
    "        self.assertIsNotNone(stat_value, \"Stat value should not be None\")\n",
    "        self.assertEqual(stat_value, 27, \"The W stat for TeamA should be 27\")\n",
    "\n",
    "    @patch('hockey.teamstats.basic.input')\n",
    "    def test_AdvancedStats(self, mock_input):\n",
    "        \"\"\"Test AdvancedStats\"\"\"\n",
    "\n",
    "        # Mock the user input for year, team\n",
    "        mock_input.side_effect = ['2022', 'Montreal Canadiens']\n",
    "\n",
    "        # Call the AdvancedStats function\n",
    "        stat_df = basic.AdvancedStats()\n",
    "\n",
    "        # Perform assertions\n",
    "        self.assertIsNotNone(stat_df, \"Stat value should not be None\")\n",
    "        self.assertTrue('Montreal Canadiens' in stat_df['Team'].values, \"Team should be Montreal Canadiens\")\n",
    "        self.assertAlmostEqual(stat_df['PTS/GP'].iloc[0], 0.6707, places=4,\n",
    "                               msg=\"PTS/GP should be correctly calculated\")\n",
    "        self.assertAlmostEqual(stat_df['GF/GP'].iloc[0], 2.6951, places=4,\n",
    "                               msg=\"GF/GP should be correctly calculated\")\n",
    "        self.assertAlmostEqual(stat_df['GA/GP'].iloc[0], 3.8902, places=4,\n",
    "                               msg=\"GA/GP should be correctly calculated\")\n",
    "        \n",
    "unittest.main(argv=[''], verbosity=2, exit=False)  "
   ]
  },
  {
   "cell_type": "code",
   "execution_count": null,
   "id": "2e8a2901-15b0-4f43-8165-912d63b2d891",
   "metadata": {},
   "outputs": [],
   "source": []
  }
 ],
 "metadata": {
  "kernelspec": {
   "display_name": "Python 3 (ipykernel)",
   "language": "python",
   "name": "python3"
  },
  "language_info": {
   "codemirror_mode": {
    "name": "ipython",
    "version": 3
   },
   "file_extension": ".py",
   "mimetype": "text/x-python",
   "name": "python",
   "nbconvert_exporter": "python",
   "pygments_lexer": "ipython3",
   "version": "3.11.7"
  }
 },
 "nbformat": 4,
 "nbformat_minor": 5
}
