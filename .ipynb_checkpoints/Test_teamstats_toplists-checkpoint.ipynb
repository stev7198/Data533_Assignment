{
 "cells": [
  {
   "cell_type": "code",
   "execution_count": 45,
   "id": "fc5b36d3-7f4b-45fb-b7ba-68dee69ec9bc",
   "metadata": {},
   "outputs": [
    {
     "name": "stderr",
     "output_type": "stream",
     "text": [
      "test_TopAssists (__main__.TestToplists.test_TopAssists)\n",
      "Test TopAssists ... /Users/tylerstevenson/Documents/MDS/Block 3/Data 533/Assignment/Data533_Assignment/hockey/teamstats/toplists.py:32: DeprecationWarning: Use of .. or absolute path in a resource path is not allowed and will raise exceptions in a future release.\n",
      "  csv_path = pkg_resources.resource_stream(__name__, f\"../{csv_filename}\")\n",
      "/var/folders/vm/ch_70xjd3t1_t3h7108v_7x80000gn/T/ipykernel_20156/1514312990.py:44: ResourceWarning: unclosed file <_io.BufferedReader name='/Users/tylerstevenson/Documents/MDS/Block 3/Data 533/Assignment/Data533_Assignment/hockey/teamstats/../skaters2024.csv'>\n",
      "  top_players = list.TopAssists()\n",
      "ResourceWarning: Enable tracemalloc to get the object allocation traceback\n",
      "ok\n",
      "test_TopGoals (__main__.TestToplists.test_TopGoals)\n",
      "Test TopGoals ... /Users/tylerstevenson/Documents/MDS/Block 3/Data 533/Assignment/Data533_Assignment/hockey/teamstats/toplists.py:53: DeprecationWarning: Use of .. or absolute path in a resource path is not allowed and will raise exceptions in a future release.\n",
      "  csv_path = pkg_resources.resource_stream(__name__, f\"../{csv_filename}\")\n",
      "/var/folders/vm/ch_70xjd3t1_t3h7108v_7x80000gn/T/ipykernel_20156/1514312990.py:60: ResourceWarning: unclosed file <_io.BufferedReader name='/Users/tylerstevenson/Documents/MDS/Block 3/Data 533/Assignment/Data533_Assignment/hockey/teamstats/../skaters2021.csv'>\n",
      "  top_players = list.TopGoals()\n",
      "ResourceWarning: Enable tracemalloc to get the object allocation traceback\n",
      "ok\n",
      "test_TopTeams (__main__.TestToplists.test_TopTeams)\n",
      "Test TopTeams ... /Users/tylerstevenson/Documents/MDS/Block 3/Data 533/Assignment/Data533_Assignment/hockey/teamstats/toplists.py:16: DeprecationWarning: Use of .. or absolute path in a resource path is not allowed and will raise exceptions in a future release.\n",
      "  csv_path = pkg_resources.resource_stream(__name__, f\"../{csv_filename}\")\n",
      "/var/folders/vm/ch_70xjd3t1_t3h7108v_7x80000gn/T/ipykernel_20156/1514312990.py:28: ResourceWarning: unclosed file <_io.BufferedReader name='/Users/tylerstevenson/Documents/MDS/Block 3/Data 533/Assignment/Data533_Assignment/hockey/teamstats/../Team2023.csv'>\n",
      "  top_teams = list.TopTeams()\n",
      "ResourceWarning: Enable tracemalloc to get the object allocation traceback\n",
      "ok\n",
      "\n",
      "----------------------------------------------------------------------\n",
      "Ran 3 tests in 0.079s\n",
      "\n",
      "OK\n"
     ]
    },
    {
     "name": "stdout",
     "output_type": "stream",
     "text": [
      "setupClass\n",
      "Set Up\n",
      "Tear Down\n",
      "Set Up\n",
      "Tear Down\n",
      "Set Up\n",
      "Tear Down\n",
      "teardownClass\n"
     ]
    },
    {
     "data": {
      "text/plain": [
       "<unittest.main.TestProgram at 0x1324eb790>"
      ]
     },
     "execution_count": 45,
     "metadata": {},
     "output_type": "execute_result"
    }
   ],
   "source": [
    "import unittest\n",
    "from unittest.mock import patch\n",
    "import hockey.teamstats.toplists as list\n",
    "\n",
    "class TestToplists(unittest.TestCase):\n",
    "    @classmethod\n",
    "    def setUpClass(cls):\n",
    "        print('setupClass')\n",
    "    \n",
    "    def setUp(self): \n",
    "        print('Set Up')\n",
    "        \n",
    "    def tearDown(self):\n",
    "        print('Tear Down')\n",
    "\n",
    "    @classmethod\n",
    "    def tearDownClass(cls):\n",
    "        print('teardownClass')\n",
    "\n",
    "    @patch('hockey.teamstats.toplists.input')\n",
    "    def test_TopTeams(self, mock_input):\n",
    "        \"\"\"Test TopTeams\"\"\"\n",
    "\n",
    "        # Mock the user input for year, number of teams\n",
    "        mock_input.side_effect = ['2023', 5]\n",
    "\n",
    "        # Call the TopTeams function\n",
    "        top_teams = list.TopTeams()\n",
    "\n",
    "        # Perform assertions\n",
    "        self.assertIsNotNone(top_teams, \"Stat value should not be None\")\n",
    "        self.assertEqual(len(top_teams), 5, \"The number of top teams should match the input number\")\n",
    "        self.assertEqual(top_teams.iloc[0]['PTS'], 135, \"The team with the highest points should be at the top\")\n",
    "        self.assertEqual(top_teams.iloc[0]['Team'], 'Boston Bruins', \"The team with the highest points should be at the top\")\n",
    "\n",
    "    @patch('hockey.teamstats.toplists.input')\n",
    "    def test_TopAssists(self, mock_input):\n",
    "        \"\"\"Test TopAssists\"\"\"\n",
    "\n",
    "        # Mock the user input for year, number of teams\n",
    "        mock_input.side_effect = ['2024', 6]\n",
    "\n",
    "        # Call the TopAssists function\n",
    "        top_players = list.TopAssists()\n",
    "\n",
    "        # Perform assertions\n",
    "        self.assertIsNotNone(top_players, \"Stat value should not be None\")\n",
    "        self.assertEqual(len(top_players), 6, \"The number of top players should match the input number\")\n",
    "        self.assertEqual(top_players.iloc[0]['total_assists'], 100, \"The player with the highest assists should be at the top\")\n",
    "        self.assertEqual(top_players.iloc[0]['name'], 'Nikita Kucherov', \"The player with the highest assists should be at the top\")\n",
    "\n",
    "    @patch('hockey.teamstats.toplists.input')\n",
    "    def test_TopGoals(self, mock_input):\n",
    "        \"\"\"Test TopGoals\"\"\"\n",
    "\n",
    "        # Mock the user input for year, number of teams\n",
    "        mock_input.side_effect = ['2021', 3]\n",
    "\n",
    "        # Call the TopGoals function\n",
    "        top_players = list.TopGoals()\n",
    "\n",
    "        # Perform assertions\n",
    "        self.assertIsNotNone(top_players, \"Stat value should not be None\")\n",
    "        self.assertEqual(len(top_players), 3, \"The number of top players should match the input number\")\n",
    "        self.assertEqual(top_players.iloc[0]['I_F_goals'], 41, \"The player with the highest goals should be at the top\")\n",
    "        self.assertEqual(top_players.iloc[0]['name'], 'Auston Matthews', \"The player with the highest assists should be at the top\")\n",
    "        \n",
    "unittest.main(argv=[''], verbosity=2, exit=False)  "
   ]
  },
  {
   "cell_type": "code",
   "execution_count": null,
   "id": "2e8a2901-15b0-4f43-8165-912d63b2d891",
   "metadata": {},
   "outputs": [],
   "source": []
  }
 ],
 "metadata": {
  "kernelspec": {
   "display_name": "Python 3 (ipykernel)",
   "language": "python",
   "name": "python3"
  },
  "language_info": {
   "codemirror_mode": {
    "name": "ipython",
    "version": 3
   },
   "file_extension": ".py",
   "mimetype": "text/x-python",
   "name": "python",
   "nbconvert_exporter": "python",
   "pygments_lexer": "ipython3",
   "version": "3.11.7"
  }
 },
 "nbformat": 4,
 "nbformat_minor": 5
}
