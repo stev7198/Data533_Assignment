{
 "cells": [
  {
   "cell_type": "code",
   "execution_count": 9,
   "id": "f766ca98-72e7-48b8-b12f-d9af8218c63d",
   "metadata": {},
   "outputs": [
    {
     "name": "stderr",
     "output_type": "stream",
     "text": [
      ".....\n",
      "----------------------------------------------------------------------\n",
      "Ran 5 tests in 0.087s\n",
      "\n",
      "OK\n"
     ]
    },
    {
     "name": "stdout",
     "output_type": "stream",
     "text": [
      "setupClass\n",
      "Set Up\n",
      "Tear Down\n",
      "Set Up\n",
      "Tear Down\n",
      "teardownClass\n",
      "setupClass\n",
      "Set Up\n",
      "Tear Down\n",
      "Set Up\n",
      "Tear Down\n",
      "Set Up\n",
      "Tear Down\n",
      "teardownClass\n",
      "<unittest.runner.TextTestResult run=5 errors=0 failures=0>\n"
     ]
    }
   ],
   "source": [
    "import unittest\n",
    "\n",
    "from Test_teamstats_basic import TestBasic\n",
    "from Test_teamstats_toplists import TestToplists\n",
    "\n",
    "\n",
    "def my_suite():\n",
    "    suite = unittest.TestSuite()\n",
    "    result = unittest.TestResult()\n",
    "    suite.addTest(TestBasic('test_BasicStats'))\n",
    "    suite.addTest(TestBasic('test_AdvancedStats'))\n",
    "    suite.addTest(TestToplists('test_TopTeams'))\n",
    "    suite.addTest(TestToplists('test_TopAssists'))\n",
    "    suite.addTest(TestToplists('test_TopGoals'))\n",
    "    runner = unittest.TextTestRunner()\n",
    "    print(runner.run(suite))\n",
    "my_suite()"
   ]
  },
  {
   "cell_type": "code",
   "execution_count": null,
   "id": "62833210-3047-4c83-a70e-d2fb86782901",
   "metadata": {},
   "outputs": [],
   "source": []
  }
 ],
 "metadata": {
  "kernelspec": {
   "display_name": "Python 3 (ipykernel)",
   "language": "python",
   "name": "python3"
  },
  "language_info": {
   "codemirror_mode": {
    "name": "ipython",
    "version": 3
   },
   "file_extension": ".py",
   "mimetype": "text/x-python",
   "name": "python",
   "nbconvert_exporter": "python",
   "pygments_lexer": "ipython3",
   "version": "3.11.7"
  }
 },
 "nbformat": 4,
 "nbformat_minor": 5
}
