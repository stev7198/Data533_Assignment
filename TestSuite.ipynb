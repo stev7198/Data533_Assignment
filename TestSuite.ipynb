{
 "cells": [
  {
   "cell_type": "code",
   "execution_count": 4,
   "id": "f766ca98-72e7-48b8-b12f-d9af8218c63d",
   "metadata": {},
   "outputs": [
    {
     "name": "stderr",
     "output_type": "stream",
     "text": [
      "\n",
      "----------------------------------------------------------------------\n",
      "Ran 0 tests in 0.000s\n",
      "\n",
      "OK\n",
      "test_AdvancedStats (Test_teamstats_basic.TestBasic.test_AdvancedStats)\n",
      "Test AdvancedStats ... /Users/tylerstevenson/Documents/MDS/Block 3/Data 533/Assignment/Data533_Assignment/hockey/teamstats/basic.py:17: DeprecationWarning: Use of .. or absolute path in a resource path is not allowed and will raise exceptions in a future release.\n",
      "  csv_path = pkg_resources.resource_stream(__name__, f\"../{csv_filename}\")\n",
      "/Users/tylerstevenson/Documents/MDS/Block 3/Data 533/Assignment/Data533_Assignment/hockey/teamstats/basic.py:47: ResourceWarning: unclosed file <_io.BufferedReader name='/Users/tylerstevenson/Documents/MDS/Block 3/Data 533/Assignment/Data533_Assignment/hockey/teamstats/../Team2022.csv'>\n",
      "  df = LoadData() # calls the loadData function to get the correct year and dataframe\n",
      "ResourceWarning: Enable tracemalloc to get the object allocation traceback\n",
      "ok\n",
      "test_BasicStats (Test_teamstats_basic.TestBasic.test_BasicStats)\n",
      "Test BasicStats ... /Users/tylerstevenson/Documents/MDS/Block 3/Data 533/Assignment/Data533_Assignment/hockey/teamstats/basic.py:17: DeprecationWarning: Use of .. or absolute path in a resource path is not allowed and will raise exceptions in a future release.\n",
      "  csv_path = pkg_resources.resource_stream(__name__, f\"../{csv_filename}\")\n",
      "/Users/tylerstevenson/Documents/MDS/Block 3/Data 533/Assignment/Data533_Assignment/hockey/teamstats/basic.py:28: ResourceWarning: unclosed file <_io.BufferedReader name='/Users/tylerstevenson/Documents/MDS/Block 3/Data 533/Assignment/Data533_Assignment/hockey/teamstats/../Team2022.csv'>\n",
      "  df = LoadData() # calls the loadData function to get the correct year and dataframe\n",
      "ResourceWarning: Enable tracemalloc to get the object allocation traceback\n",
      "/Users/tylerstevenson/Documents/MDS/Block 3/Data 533/Assignment/Data533_Assignment/hockey/teamstats/basic.py:17: DeprecationWarning: Use of .. or absolute path in a resource path is not allowed and will raise exceptions in a future release.\n",
      "  csv_path = pkg_resources.resource_stream(__name__, f\"../{csv_filename}\")\n",
      "/Users/tylerstevenson/Documents/MDS/Block 3/Data 533/Assignment/Data533_Assignment/hockey/teamstats/basic.py:28: ResourceWarning: unclosed file <_io.BufferedReader name='/Users/tylerstevenson/Documents/MDS/Block 3/Data 533/Assignment/Data533_Assignment/hockey/teamstats/../Team2022.csv'>\n",
      "  df = LoadData() # calls the loadData function to get the correct year and dataframe\n",
      "ResourceWarning: Enable tracemalloc to get the object allocation traceback\n",
      "ok\n",
      "\n",
      "----------------------------------------------------------------------\n",
      "Ran 2 tests in 0.007s\n",
      "\n",
      "OK\n",
      ".....\n",
      "----------------------------------------------------------------------\n",
      "Ran 5 tests in 0.067s\n",
      "\n",
      "OK\n"
     ]
    },
    {
     "name": "stdout",
     "output_type": "stream",
     "text": [
      "setupClass\n",
      "Set Up\n",
      "Tear Down\n",
      "Set Up\n",
      "Tear Down\n",
      "teardownClass\n",
      "setupClass\n",
      "Set Up\n",
      "Tear Down\n",
      "Set Up\n",
      "Tear Down\n",
      "teardownClass\n",
      "setupClass\n",
      "Set Up\n",
      "Tear Down\n",
      "Set Up\n",
      "Tear Down\n",
      "Set Up\n",
      "Tear Down\n",
      "teardownClass\n",
      "<unittest.runner.TextTestResult run=5 errors=0 failures=0>\n"
     ]
    }
   ],
   "source": [
    "import unittest\n",
    "\n",
    "from Test_teamstats_basic import TestBasic\n",
    "from Test_teamstats_toplists import TestToplists\n",
    "\n",
    "\n",
    "def my_suite():\n",
    "    suite = unittest.TestSuite()\n",
    "    result = unittest.TestResult()\n",
    "    suite.addTest(TestBasic('test_BasicStats'))\n",
    "    suite.addTest(TestBasic('test_AdvancedStats'))\n",
    "    suite.addTest(TestToplists('test_TopTeams'))\n",
    "    suite.addTest(TestToplists('test_TopAssists'))\n",
    "    suite.addTest(TestToplists('test_TopGoals'))\n",
    "    runner = unittest.TextTestRunner()\n",
    "    print(runner.run(suite))\n",
    "my_suite()"
   ]
  },
  {
   "cell_type": "code",
   "execution_count": null,
   "id": "62833210-3047-4c83-a70e-d2fb86782901",
   "metadata": {},
   "outputs": [],
   "source": []
  }
 ],
 "metadata": {
  "kernelspec": {
   "display_name": "Python 3 (ipykernel)",
   "language": "python",
   "name": "python3"
  },
  "language_info": {
   "codemirror_mode": {
    "name": "ipython",
    "version": 3
   },
   "file_extension": ".py",
   "mimetype": "text/x-python",
   "name": "python",
   "nbconvert_exporter": "python",
   "pygments_lexer": "ipython3",
   "version": "3.11.7"
  }
 },
 "nbformat": 4,
 "nbformat_minor": 5
}
