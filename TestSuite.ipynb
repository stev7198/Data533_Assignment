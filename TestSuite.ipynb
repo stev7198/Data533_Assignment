{
 "cells": [
  {
   "cell_type": "code",
   "execution_count": 9,
   "id": "f766ca98-72e7-48b8-b12f-d9af8218c63d",
   "metadata": {},
   "outputs": [
    {
     "name": "stderr",
     "output_type": "stream",
     "text": [
      ".....\n",
      "----------------------------------------------------------------------\n",
      "Ran 5 tests in 0.087s\n",
      "\n",
      "OK\n"
     ]
    },
    {
     "name": "stdout",
     "output_type": "stream",
     "text": [
      "setupClass\n",
      "Set Up\n",
      "Tear Down\n",
      "Set Up\n",
      "Tear Down\n",
      "teardownClass\n",
      "setupClass\n",
      "Set Up\n",
      "Tear Down\n",
      "Set Up\n",
      "Tear Down\n",
      "Set Up\n",
      "Tear Down\n",
      "teardownClass\n",
      "<unittest.runner.TextTestResult run=5 errors=0 failures=0>\n"
     ]
    }
   ],
   "source": [
    "import unittest\n",
    "\n",
    "from Test_teamstats_basic import TestBasic\n",
    "from Test_teamstats_toplists import TestToplists\n",
    "\n",
    "\n",
    "def my_suite():\n",
    "    suite = unittest.TestSuite()\n",
    "    result = unittest.TestResult()\n",
    "    suite.addTest(TestBasic('test_BasicStats'))\n",
    "    suite.addTest(TestBasic('test_AdvancedStats'))\n",
    "    suite.addTest(TestToplists('test_TopTeams'))\n",
    "    suite.addTest(TestToplists('test_TopAssists'))\n",
    "    suite.addTest(TestToplists('test_TopGoals'))\n",
    "    runner = unittest.TextTestRunner()\n",
    "    print(runner.run(suite))\n",
    "my_suite()"
   ]
  },
  {
   "cell_type": "code",
   "execution_count": 1,
   "id": "62833210-3047-4c83-a70e-d2fb86782901",
   "metadata": {},
   "outputs": [
    {
     "name": "stderr",
     "output_type": "stream",
     "text": [
      "test_get_player_stats_skater (test_get_player_stats.TestGetUserInput.test_get_player_stats_skater)\n",
      "Test the get_player_stats function for a skater (Evander Kane). ... ok\n",
      "test_get_player_stats_goalie (test_get_player_stats.TestGetUserInput.test_get_player_stats_goalie)\n",
      "Test the get_player_stats function for a goalie (Tristan Jarry). ... ok\n",
      "test_get_player_stats_invalid_player_type (test_get_player_stats.TestGetUserInput.test_get_player_stats_invalid_player_type)\n",
      "Test for invalid player type input. ... ok\n",
      "\n",
      "----------------------------------------------------------------------\n",
      "Ran 3 tests in 0.062s\n",
      "\n",
      "OK\n"
     ]
    },
    {
     "name": "stdout",
     "output_type": "stream",
     "text": [
      "Setting up class resources.\n",
      "Setting up for a test.\n",
      "Tearing down after a test.\n",
      "Setting up for a test.\n",
      "Tearing down after a test.\n",
      "Setting up for a test.\n",
      "Tearing down after a test.\n",
      "Tearing down class resources.\n"
     ]
    }
   ],
   "source": [
    "import unittest\n",
    "from test_get_player_stats import TestGetUserInput\n",
    "\n",
    "def player_suite():\n",
    "    suite = unittest.TestSuite()\n",
    "    \n",
    "    # Add each test case method from the TestGetUserInput class to the suite\n",
    "    suite.addTest(TestGetUserInput('test_get_player_stats_skater'))\n",
    "    suite.addTest(TestGetUserInput('test_get_player_stats_goalie'))\n",
    "    suite.addTest(TestGetUserInput('test_get_player_stats_invalid_player_type'))\n",
    "    \n",
    "    # Run the test suite\n",
    "    runner = unittest.TextTestRunner(verbosity=2)  # verbosity=2 gives more detailed output\n",
    "    result = runner.run(suite)\n",
    "\n",
    "# Run the suite\n",
    "if __name__ == '__main__':\n",
    "    player_suite()\n"
   ]
  },
  {
   "cell_type": "code",
   "execution_count": null,
   "id": "3b93696f-3242-4697-a92a-ca066073aeef",
   "metadata": {},
   "outputs": [],
   "source": []
  }
 ],
 "metadata": {
  "kernelspec": {
   "display_name": "Python 3 (ipykernel)",
   "language": "python",
   "name": "python3"
  },
  "language_info": {
   "codemirror_mode": {
    "name": "ipython",
    "version": 3
   },
   "file_extension": ".py",
   "mimetype": "text/x-python",
   "name": "python",
   "nbconvert_exporter": "python",
   "pygments_lexer": "ipython3",
   "version": "3.12.3"
  }
 },
 "nbformat": 4,
 "nbformat_minor": 5
}
